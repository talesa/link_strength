{
 "cells": [
  {
   "cell_type": "code",
   "execution_count": 114,
   "metadata": {
    "collapsed": false
   },
   "outputs": [],
   "source": [
    "number_of_conditioned_variables = 1"
   ]
  },
  {
   "cell_type": "code",
   "execution_count": 115,
   "metadata": {
    "collapsed": false
   },
   "outputs": [],
   "source": [
    "number_of_states_in_conditioned_variable = []\n",
    "for i in range(number_of_conditioned_variables):\n",
    "    number_of_states_in_conditioned_variable.append(0)\n",
    "    \n",
    "link_strength = []\n",
    "for i in range(number_of_conditioned_variables):\n",
    "    link_strength.append(0)"
   ]
  },
  {
   "cell_type": "code",
   "execution_count": 116,
   "metadata": {
    "collapsed": true
   },
   "outputs": [],
   "source": [
    "number_of_states_in_variable = 3"
   ]
  },
  {
   "cell_type": "code",
   "execution_count": 117,
   "metadata": {
    "collapsed": true
   },
   "outputs": [],
   "source": [
    "number_of_states_in_conditioned_variable[0] = 3\n",
    "# number_of_states_in_conditioned_variable[1] = 3"
   ]
  },
  {
   "cell_type": "code",
   "execution_count": 118,
   "metadata": {
    "collapsed": false
   },
   "outputs": [],
   "source": [
    "link_strength[0] = 0.5\n",
    "# link_strength[1] = 0.5"
   ]
  },
  {
   "cell_type": "code",
   "execution_count": 119,
   "metadata": {
    "collapsed": false
   },
   "outputs": [],
   "source": [
    "P = np.matrix(np.zeros((reduce(lambda x, y: x * y, number_of_states_in_conditioned_variable), number_of_states_in_variable)))"
   ]
  },
  {
   "cell_type": "code",
   "execution_count": 120,
   "metadata": {
    "collapsed": false,
    "scrolled": true
   },
   "outputs": [
    {
     "data": {
      "text/plain": [
       "matrix([[ 0.,  0.,  0.],\n",
       "        [ 0.,  0.,  0.],\n",
       "        [ 0.,  0.,  0.]])"
      ]
     },
     "execution_count": 120,
     "metadata": {},
     "output_type": "execute_result"
    }
   ],
   "source": [
    "P"
   ]
  },
  {
   "cell_type": "code",
   "execution_count": null,
   "metadata": {
    "collapsed": true
   },
   "outputs": [],
   "source": [
    "number_of_conditioned_variables \n",
    "states = number_of_conditioned_variables"
   ]
  },
  {
   "cell_type": "code",
   "execution_count": 125,
   "metadata": {
    "collapsed": true
   },
   "outputs": [],
   "source": [
    "states = []\n",
    "last_state = tuple([0 for i in range(number_of_conditioned_variables)])\n",
    "for conditioned_variable_no in range(number_of_conditioned_variables):\n",
    "    for state_of_conditioned_variable in range(number_of_states_in_conditioned_variable[conditioned_variable_no]):\n",
    "        states.append(())"
   ]
  },
  {
   "cell_type": "code",
   "execution_count": 126,
   "metadata": {
    "collapsed": false
   },
   "outputs": [
    {
     "data": {
      "text/plain": [
       "(0,)"
      ]
     },
     "execution_count": 126,
     "metadata": {},
     "output_type": "execute_result"
    }
   ],
   "source": [
    "last_state"
   ]
  },
  {
   "cell_type": "code",
   "execution_count": 123,
   "metadata": {
    "collapsed": false
   },
   "outputs": [],
   "source": [
    "for state_of_variable in range(number_of_states_in_variable):\n",
    "    for conditioned_variable_no in range(number_of_conditioned_variables):\n",
    "        for state_of_conditioned_variable in range(number_of_states_in_conditioned_variable[conditioned_variable_no]):\n",
    "            r = state_of_variable\n",
    "            c = state_of_conditioned_variable\n",
    "            m_i = float(number_of_states_in_conditioned_variable[conditioned_variable_no])\n",
    "            abs_eta_i = np.abs(link_strength[conditioned_variable_no])\n",
    "            K = 1 - 1/m_i\n",
    "            if r == c:\n",
    "                P[r, c] = 1/m_i + abs_eta_i * K\n",
    "            else:\n",
    "                sum_term = 0\n",
    "                for j in range(int(m_i)):\n",
    "                    if j != r:\n",
    "                        sum_term += 1/(j-r)**2\n",
    "                P[r, c] = (abs_eta_i/(c-r)**2/sum_term + (1-abs_eta_i)/(m_i-1))*(1-1/m_i-abs_eta_i*K)"
   ]
  },
  {
   "cell_type": "code",
   "execution_count": 124,
   "metadata": {
    "collapsed": false
   },
   "outputs": [
    {
     "data": {
      "text/plain": [
       "matrix([[ 0.66666667,  0.25      ,  0.125     ],\n",
       "        [ 0.16666667,  0.66666667,  0.16666667],\n",
       "        [ 0.125     ,  0.25      ,  0.66666667]])"
      ]
     },
     "execution_count": 124,
     "metadata": {},
     "output_type": "execute_result"
    }
   ],
   "source": [
    "P"
   ]
  },
  {
   "cell_type": "code",
   "execution_count": null,
   "metadata": {
    "collapsed": true
   },
   "outputs": [],
   "source": []
  },
  {
   "cell_type": "code",
   "execution_count": null,
   "metadata": {
    "collapsed": true
   },
   "outputs": [],
   "source": []
  }
 ],
 "metadata": {
  "kernelspec": {
   "display_name": "Python 2",
   "language": "python",
   "name": "python2"
  },
  "language_info": {
   "codemirror_mode": {
    "name": "ipython",
    "version": 2
   },
   "file_extension": ".py",
   "mimetype": "text/x-python",
   "name": "python",
   "nbconvert_exporter": "python",
   "pygments_lexer": "ipython2",
   "version": "2.7.11"
  }
 },
 "nbformat": 4,
 "nbformat_minor": 0
}
