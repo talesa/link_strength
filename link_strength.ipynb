{
 "cells": [
  {
   "cell_type": "code",
   "execution_count": 160,
   "metadata": {
    "collapsed": false
   },
   "outputs": [],
   "source": [
    "# define variables\n",
    "\n",
    "number_of_conditioned_variables = 2\n",
    "number_of_states_in_variable = 3"
   ]
  },
  {
   "cell_type": "code",
   "execution_count": 161,
   "metadata": {
    "collapsed": false
   },
   "outputs": [],
   "source": [
    "# \n",
    "\n",
    "number_of_states_in_conditioned_variable = []\n",
    "for i in range(number_of_conditioned_variables):\n",
    "    number_of_states_in_conditioned_variable.append(0)\n",
    "    \n",
    "link_strength = []\n",
    "for i in range(number_of_conditioned_variables):\n",
    "    link_strength.append(0)"
   ]
  },
  {
   "cell_type": "code",
   "execution_count": 172,
   "metadata": {
    "collapsed": true
   },
   "outputs": [],
   "source": [
    "# define variables\n",
    "\n",
    "number_of_states_in_conditioned_variable[0] = 3\n",
    "number_of_states_in_conditioned_variable[1] = 3\n",
    "\n",
    "link_strength[0] = 0\n",
    "link_strength[1] = 0"
   ]
  },
  {
   "cell_type": "code",
   "execution_count": 173,
   "metadata": {
    "collapsed": false
   },
   "outputs": [
    {
     "data": {
      "text/plain": [
       "[3, 3]"
      ]
     },
     "execution_count": 173,
     "metadata": {},
     "output_type": "execute_result"
    }
   ],
   "source": [
    "number_of_states_in_conditioned_variable"
   ]
  },
  {
   "cell_type": "code",
   "execution_count": 174,
   "metadata": {
    "collapsed": false,
    "scrolled": true
   },
   "outputs": [],
   "source": [
    "# create placeholders for P(u'|u)\n",
    "\n",
    "import numpy as np\n",
    "\n",
    "P = list()\n",
    "\n",
    "for i in range(number_of_conditioned_variables):\n",
    "    P.append(np.matrix(np.zeros((number_of_states_in_conditioned_variable[i], number_of_states_in_conditioned_variable[i]))))"
   ]
  },
  {
   "cell_type": "code",
   "execution_count": 175,
   "metadata": {
    "collapsed": false
   },
   "outputs": [],
   "source": [
    "for state_of_variable in range(number_of_states_in_variable):\n",
    "    for conditioned_variable_no in range(number_of_conditioned_variables):\n",
    "        for state_of_conditioned_variable in range(number_of_states_in_conditioned_variable[conditioned_variable_no]):\n",
    "            r = state_of_variable\n",
    "            c = state_of_conditioned_variable\n",
    "            m_i = float(number_of_states_in_conditioned_variable[conditioned_variable_no])\n",
    "            abs_eta_i = np.abs(link_strength[conditioned_variable_no])\n",
    "            K = 1 - 1/m_i\n",
    "            if r == c:\n",
    "                P[conditioned_variable_no][r, c] = 1/m_i + abs_eta_i * K\n",
    "            else:\n",
    "                sum_term = 0\n",
    "                for j in range(int(m_i)):\n",
    "                    if j != r:\n",
    "                        sum_term += 1/(j-r)**2\n",
    "                P[conditioned_variable_no][r, c] = (abs_eta_i/(c-r)**2/sum_term + (1-abs_eta_i)/(m_i-1))*(1-1/m_i-abs_eta_i*K)"
   ]
  },
  {
   "cell_type": "code",
   "execution_count": 176,
   "metadata": {
    "collapsed": true
   },
   "outputs": [],
   "source": [
    "def F(u_prime):\n",
    "#     print enumerate(zip(link_strength, u_prime))\n",
    "    res = sum([np.abs(eta_i)*H(u_prime_i, i) for i, (eta_i, u_prime_i) in enumerate(zip(link_strength, u_prime))])\n",
    "    if sum(link_strength) != 0:\n",
    "        res /= sum(link_strength)\n",
    "#     print('Result of F(): {}, u_prime: {}'.format(res, u_prime))\n",
    "    return res"
   ]
  },
  {
   "cell_type": "code",
   "execution_count": 177,
   "metadata": {
    "collapsed": true
   },
   "outputs": [],
   "source": [
    "def H(u_prime_i, i):\n",
    "    if link_strength[i] >= 0:\n",
    "        return u_prime_i\n",
    "    else:\n",
    "        return -u_prime_i + 1 + number_of_states_in_conditioned_variable[i]"
   ]
  },
  {
   "cell_type": "code",
   "execution_count": 178,
   "metadata": {
    "collapsed": false
   },
   "outputs": [],
   "source": [
    "import itertools\n",
    "\n",
    "def generate_all_possible_u():\n",
    "    groups = list()\n",
    "    \n",
    "    for i in range(number_of_conditioned_variables):\n",
    "        group = [j for j in range(number_of_states_in_conditioned_variable[i])]\n",
    "        groups.append(group)\n",
    "        \n",
    "    return list(itertools.product(*groups))"
   ]
  },
  {
   "cell_type": "code",
   "execution_count": 186,
   "metadata": {
    "collapsed": false,
    "scrolled": true
   },
   "outputs": [
    {
     "data": {
      "text/plain": [
       "[matrix([[ 0.33333333,  0.33333333,  0.33333333],\n",
       "         [ 0.33333333,  0.33333333,  0.33333333],\n",
       "         [ 0.33333333,  0.33333333,  0.33333333]]),\n",
       " matrix([[ 0.33333333,  0.33333333,  0.33333333],\n",
       "         [ 0.33333333,  0.33333333,  0.33333333],\n",
       "         [ 0.33333333,  0.33333333,  0.33333333]])]"
      ]
     },
     "execution_count": 186,
     "metadata": {},
     "output_type": "execute_result"
    }
   ],
   "source": [
    "P"
   ]
  },
  {
   "cell_type": "code",
   "execution_count": 195,
   "metadata": {
    "collapsed": true
   },
   "outputs": [],
   "source": [
    "b = [1.5, 0.6, 1.5]"
   ]
  },
  {
   "cell_type": "code",
   "execution_count": 210,
   "metadata": {
    "collapsed": false
   },
   "outputs": [],
   "source": [
    "# P(x|u)\n",
    "# = sum over all u' such that F(u') = x\n",
    "\n",
    "from functools import reduce\n",
    "import operator\n",
    "\n",
    "def Pr(x, u):\n",
    "    sum_term = 0\n",
    "    for u_prime in generate_all_possible_u():\n",
    "        # do the rounding here\n",
    "        \n",
    "        F_value = F(u_prime)\n",
    "        print('{} '.format(F_value))\n",
    "        if F_value == x:\n",
    "            weight = 1\n",
    "        elif np.ceil(F_value) == x:\n",
    "            weight = x - F_value\n",
    "            F_value = x\n",
    "            assert weight > 0\n",
    "        elif np.floor(F_value) == x:\n",
    "            weight = F_value - x\n",
    "            F_value = x\n",
    "            assert weight > 0\n",
    "        else:\n",
    "            continue\n",
    "            \n",
    "        prod_term = 1\n",
    "        for i in range(number_of_conditioned_variables):\n",
    "#             prod_term *= P[i][u_prime[i], u[i]]\n",
    "            prod_term *= P[i][u[i], u_prime[i]]\n",
    "        \n",
    "        sum_term += prod_term + correction(weight, x)\n",
    "        \n",
    "    return sum_term"
   ]
  },
  {
   "cell_type": "code",
   "execution_count": 211,
   "metadata": {
    "collapsed": true
   },
   "outputs": [],
   "source": [
    "def correction(weight2, x):\n",
    "    c1 = np.max(np.abs(link_strength)) * weight2 + (1 - np.max(np.abs(link_strength))) * b[x] * weight2\n",
    "    if np.max(np.abs(link_strength)) == 0:\n",
    "        min_max = 1\n",
    "    else:\n",
    "        min_max = np.min(np.abs(link_strength))/np.max(np.abs(link_strength))\n",
    "    c2 = min_max*c1 + weight2 * (1 - min_max)\n",
    "    return c2"
   ]
  },
  {
   "cell_type": "code",
   "execution_count": 212,
   "metadata": {
    "collapsed": false,
    "scrolled": false
   },
   "outputs": [
    {
     "name": "stdout",
     "output_type": "stream",
     "text": [
      "0 \n",
      "0 \n",
      "0 \n",
      "0 \n",
      "0 \n",
      "0 \n",
      "0 \n",
      "0 \n",
      "0 \n",
      "0 \n",
      "0 \n",
      "0 \n",
      "0 \n",
      "0 \n",
      "0 \n",
      "0 \n",
      "0 \n",
      "0 \n",
      "0 \n",
      "0 \n",
      "0 \n",
      "0 \n",
      "0 \n",
      "0 \n",
      "0 \n",
      "0 \n",
      "0 \n",
      "[1.0, 0.0, 0.0]\n",
      "0 \n",
      "0 \n",
      "0 \n",
      "0 \n",
      "0 \n",
      "0 \n",
      "0 \n",
      "0 \n",
      "0 \n",
      "0 \n",
      "0 \n",
      "0 \n",
      "0 \n",
      "0 \n",
      "0 \n",
      "0 \n",
      "0 \n",
      "0 \n",
      "0 \n",
      "0 \n",
      "0 \n",
      "0 \n",
      "0 \n",
      "0 \n",
      "0 \n",
      "0 \n",
      "0 \n",
      "[1.0, 0.0, 0.0]\n",
      "0 \n",
      "0 \n",
      "0 \n",
      "0 \n",
      "0 \n",
      "0 \n",
      "0 \n",
      "0 \n",
      "0 \n",
      "0 \n",
      "0 \n",
      "0 \n",
      "0 \n",
      "0 \n",
      "0 \n",
      "0 \n",
      "0 \n",
      "0 \n",
      "0 \n",
      "0 \n",
      "0 \n",
      "0 \n",
      "0 \n",
      "0 \n",
      "0 \n",
      "0 \n",
      "0 \n",
      "[1.0, 0.0, 0.0]\n",
      "0 \n",
      "0 \n",
      "0 \n",
      "0 \n",
      "0 \n",
      "0 \n",
      "0 \n",
      "0 \n",
      "0 \n",
      "0 \n",
      "0 \n",
      "0 \n",
      "0 \n",
      "0 \n",
      "0 \n",
      "0 \n",
      "0 \n",
      "0 \n",
      "0 \n",
      "0 \n",
      "0 \n",
      "0 \n",
      "0 \n",
      "0 \n",
      "0 \n",
      "0 \n",
      "0 \n",
      "[1.0, 0.0, 0.0]\n",
      "0 \n",
      "0 \n",
      "0 \n",
      "0 \n",
      "0 \n",
      "0 \n",
      "0 \n",
      "0 \n",
      "0 \n",
      "0 \n",
      "0 \n",
      "0 \n",
      "0 \n",
      "0 \n",
      "0 \n",
      "0 \n",
      "0 \n",
      "0 \n",
      "0 \n",
      "0 \n",
      "0 \n",
      "0 \n",
      "0 \n",
      "0 \n",
      "0 \n",
      "0 \n",
      "0 \n",
      "[1.0, 0.0, 0.0]\n",
      "0 \n",
      "0 \n",
      "0 \n",
      "0 \n",
      "0 \n",
      "0 \n",
      "0 \n",
      "0 \n",
      "0 \n",
      "0 \n",
      "0 \n",
      "0 \n",
      "0 \n",
      "0 \n",
      "0 \n",
      "0 \n",
      "0 \n",
      "0 \n",
      "0 \n",
      "0 \n",
      "0 \n",
      "0 \n",
      "0 \n",
      "0 \n",
      "0 \n",
      "0 \n",
      "0 \n",
      "[1.0, 0.0, 0.0]\n",
      "0 \n",
      "0 \n",
      "0 \n",
      "0 \n",
      "0 \n",
      "0 \n",
      "0 \n",
      "0 \n",
      "0 \n",
      "0 \n",
      "0 \n",
      "0 \n",
      "0 \n",
      "0 \n",
      "0 \n",
      "0 \n",
      "0 \n",
      "0 \n",
      "0 \n",
      "0 \n",
      "0 \n",
      "0 \n",
      "0 \n",
      "0 \n",
      "0 \n",
      "0 \n",
      "0 \n",
      "[1.0, 0.0, 0.0]\n",
      "0 \n",
      "0 \n",
      "0 \n",
      "0 \n",
      "0 \n",
      "0 \n",
      "0 \n",
      "0 \n",
      "0 \n",
      "0 \n",
      "0 \n",
      "0 \n",
      "0 \n",
      "0 \n",
      "0 \n",
      "0 \n",
      "0 \n",
      "0 \n",
      "0 \n",
      "0 \n",
      "0 \n",
      "0 \n",
      "0 \n",
      "0 \n",
      "0 \n",
      "0 \n",
      "0 \n",
      "[1.0, 0.0, 0.0]\n",
      "0 \n",
      "0 \n",
      "0 \n",
      "0 \n",
      "0 \n",
      "0 \n",
      "0 \n",
      "0 \n",
      "0 \n",
      "0 \n",
      "0 \n",
      "0 \n",
      "0 \n",
      "0 \n",
      "0 \n",
      "0 \n",
      "0 \n",
      "0 \n",
      "0 \n",
      "0 \n",
      "0 \n",
      "0 \n",
      "0 \n",
      "0 \n",
      "0 \n",
      "0 \n",
      "0 \n",
      "[1.0, 0.0, 0.0]\n"
     ]
    }
   ],
   "source": [
    "for us in generate_all_possible_u():\n",
    "    l = [Pr(i, us) for i in range(number_of_states_in_variable)]\n",
    "    suml = sum(l)\n",
    "    if suml != 0:\n",
    "        l = [i/suml for i in l]\n",
    "    print (l)"
   ]
  },
  {
   "cell_type": "code",
   "execution_count": null,
   "metadata": {
    "collapsed": true
   },
   "outputs": [],
   "source": []
  },
  {
   "cell_type": "code",
   "execution_count": null,
   "metadata": {
    "collapsed": true
   },
   "outputs": [],
   "source": []
  }
 ],
 "metadata": {
  "kernelspec": {
   "display_name": "Python 2",
   "language": "python",
   "name": "python2"
  },
  "language_info": {
   "codemirror_mode": {
    "name": "ipython",
    "version": 2
   },
   "file_extension": ".py",
   "mimetype": "text/x-python",
   "name": "python",
   "nbconvert_exporter": "python",
   "pygments_lexer": "ipython2",
   "version": "2.7.11"
  }
 },
 "nbformat": 4,
 "nbformat_minor": 0
}
